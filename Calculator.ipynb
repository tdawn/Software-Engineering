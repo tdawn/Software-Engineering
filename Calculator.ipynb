{
 "cells": [
  {
   "cell_type": "code",
   "execution_count": 2,
   "metadata": {},
   "outputs": [],
   "source": [
    "def summation(x,y):\n",
    "    return x + y\n",
    "\n",
    "def subtraction(x,y):\n",
    "    return x - y\n",
    "\n",
    "def multiplication(x,y):\n",
    "    return x * y\n",
    "\n",
    "def division(x,y):\n",
    "    return x / y\n",
    "\n",
    "def sum_vector(x):\n",
    "    sum = x[0]\n",
    "    for i in range(1,len(x)):\n",
    "        sum = summation(sum, x[i])\n",
    "    return sum\n",
    "\n",
    "def average(x):\n",
    "    return sum_vector(x) / len(x)"
   ]
  },
  {
   "cell_type": "code",
   "execution_count": 3,
   "metadata": {},
   "outputs": [],
   "source": [
    "def input_base(usevar, z):\n",
    "    if usevar == \"y\":\n",
    "        x = z\n",
    "        y = float(input(\"Enter the second number: \"))\n",
    "    else:\n",
    "        x = float(input(\"Enter the first number: \"))\n",
    "        y = float(input(\"Enter the second number: \"))\n",
    "    return x, y\n",
    "\n",
    "def input_vector():\n",
    "    n = int(input(\"Enter the length of your vector: \"))\n",
    "    x = input(\"Input the vector (separated by space): \")\n",
    "    x = x.split(\" \")\n",
    "    x = [float(x[i]) for i in range(len(x))]\n",
    "    return x"
   ]
  },
  {
   "cell_type": "code",
   "execution_count": 4,
   "metadata": {},
   "outputs": [],
   "source": [
    "def main():\n",
    "    print(\"Choose one operation you want to do!\")\n",
    "    print(\"1. Summation\\n2. Subtraction\\n3. Multiplication\\n4. Division\\n5. Vector Summation\\n6. Average\")\n",
    "    z = None\n",
    "    while True:\n",
    "        print()\n",
    "        code = int(input(\"Enter the operation code: \"))\n",
    "\n",
    "        if \"cont\" in locals() and code in range(1,5):\n",
    "            usevar = input(\"do you want to use the previous result (y/n)? \")\n",
    "        else:\n",
    "            usevar = None\n",
    "\n",
    "        if code == 1:\n",
    "            x, y = input_base(usevar, z)\n",
    "            z = summation(x, y)\n",
    "        elif code == 2:\n",
    "            x, y = input_base(usevar, z)\n",
    "            z = subtraction(x, y)\n",
    "        elif code == 3:\n",
    "            x, y = input_base(usevar, z)\n",
    "            z = multiplication(x, y)\n",
    "        elif code == 4:\n",
    "            x, y = input_base(usevar, z)\n",
    "            z = division(x, y)\n",
    "        elif code == 5:\n",
    "            x = input_vector()\n",
    "            z = sum_vector(x)\n",
    "        elif code == 6:\n",
    "            x = input_vector()\n",
    "            z = average(x)\n",
    "\n",
    "        print(\"Result: \", z)\n",
    "\n",
    "        cont = input(\"Do you want to continue (y/n)? \")\n",
    "        if cont == \"y\":\n",
    "            continue\n",
    "        elif cont == \"n\":\n",
    "            break"
   ]
  },
  {
   "cell_type": "code",
   "execution_count": 5,
   "metadata": {},
   "outputs": [
    {
     "name": "stdout",
     "output_type": "stream",
     "text": [
      "Choose one operation you want to do!\n",
      "1. Summation\n",
      "2. Subtraction\n",
      "3. Multiplication\n",
      "4. Division\n",
      "5. Vector Summation\n",
      "6. Average\n",
      "\n",
      "Enter the operation code: 1\n",
      "Enter the first number: 3\n",
      "Enter the second number: 4\n",
      "Result:  7.0\n",
      "Do you want to continue (y/n)? y\n",
      "\n",
      "Enter the operation code: 4\n",
      "do you want to use the previous result (y/n)? y\n",
      "Enter the second number: 67\n",
      "Result:  0.1044776119402985\n",
      "Do you want to continue (y/n)? y\n",
      "\n",
      "Enter the operation code: 3\n",
      "do you want to use the previous result (y/n)? y\n",
      "Enter the second number: 54\n",
      "Result:  5.641791044776119\n",
      "Do you want to continue (y/n)? n\n"
     ]
    }
   ],
   "source": [
    "main()"
   ]
  },
  {
   "cell_type": "code",
   "execution_count": 6,
   "metadata": {},
   "outputs": [
    {
     "name": "stdout",
     "output_type": "stream",
     "text": [
      "Choose one operation you want to do!\n",
      "1. Summation\n",
      "2. Subtraction\n",
      "3. Multiplication\n",
      "4. Division\n",
      "5. Vector Summation\n",
      "6. Average\n",
      "\n",
      "Enter the operation code: 5\n",
      "Enter the length of your vector: 5\n",
      "Input the vector (separated by space): 1.2 4 5.6 7.8 4 3.3\n",
      "Result:  25.900000000000002\n",
      "Do you want to continue (y/n)? y\n",
      "\n",
      "Enter the operation code: 1\n",
      "do you want to use the previous result (y/n)? y\n",
      "Enter the second number: 4\n",
      "Result:  29.900000000000002\n",
      "Do you want to continue (y/n)? y\n",
      "\n",
      "Enter the operation code: 4\n",
      "do you want to use the previous result (y/n)? y\n",
      "Enter the second number: 76\n",
      "Result:  0.39342105263157895\n",
      "Do you want to continue (y/n)? n\n"
     ]
    }
   ],
   "source": [
    "main()"
   ]
  },
  {
   "cell_type": "code",
   "execution_count": null,
   "metadata": {},
   "outputs": [],
   "source": []
  }
 ],
 "metadata": {
  "kernelspec": {
   "display_name": "Python 3",
   "language": "python",
   "name": "python3"
  },
  "language_info": {
   "codemirror_mode": {
    "name": "ipython",
    "version": 3
   },
   "file_extension": ".py",
   "mimetype": "text/x-python",
   "name": "python",
   "nbconvert_exporter": "python",
   "pygments_lexer": "ipython3",
   "version": "3.6.8"
  }
 },
 "nbformat": 4,
 "nbformat_minor": 2
}
